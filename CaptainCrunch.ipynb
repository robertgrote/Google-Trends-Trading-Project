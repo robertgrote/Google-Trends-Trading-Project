{
 "cells": [
  {
   "cell_type": "code",
   "execution_count": 124,
   "metadata": {
    "collapsed": false
   },
   "outputs": [
    {
     "name": "stdout",
     "output_type": "stream",
     "text": [
      "Requirement already satisfied (use --upgrade to upgrade): schedule in /Users/grotero/anaconda/lib/python2.7/site-packages\n",
      "\u001b[33mYou are using pip version 8.1.2, however version 9.0.1 is available.\n",
      "You should consider upgrading via the 'pip install --upgrade pip' command.\u001b[0m\n",
      "Requirement already satisfied (use --upgrade to upgrade): pytrends in /Users/grotero/anaconda/lib/python2.7/site-packages\n",
      "Requirement already satisfied (use --upgrade to upgrade): BeautifulSoup4 in /Users/grotero/anaconda/lib/python2.7/site-packages (from pytrends)\n",
      "Requirement already satisfied (use --upgrade to upgrade): lxml in /Users/grotero/anaconda/lib/python2.7/site-packages (from pytrends)\n",
      "Requirement already satisfied (use --upgrade to upgrade): pandas in /Users/grotero/anaconda/lib/python2.7/site-packages (from pytrends)\n",
      "Requirement already satisfied (use --upgrade to upgrade): requests in /Users/grotero/anaconda/lib/python2.7/site-packages (from pytrends)\n",
      "Requirement already satisfied (use --upgrade to upgrade): python-dateutil in /Users/grotero/anaconda/lib/python2.7/site-packages (from pandas->pytrends)\n",
      "Requirement already satisfied (use --upgrade to upgrade): pytz>=2011k in /Users/grotero/anaconda/lib/python2.7/site-packages (from pandas->pytrends)\n",
      "Requirement already satisfied (use --upgrade to upgrade): numpy>=1.7.0 in /Users/grotero/anaconda/lib/python2.7/site-packages (from pandas->pytrends)\n",
      "Requirement already satisfied (use --upgrade to upgrade): six>=1.5 in /Users/grotero/anaconda/lib/python2.7/site-packages (from python-dateutil->pandas->pytrends)\n",
      "\u001b[33mYou are using pip version 8.1.2, however version 9.0.1 is available.\n",
      "You should consider upgrading via the 'pip install --upgrade pip' command.\u001b[0m\n"
     ]
    }
   ],
   "source": [
    "import datetime\n",
    "import pandas as pd\n",
    "import numpy as np\n",
    "!pip install schedule\n",
    "import schedule\n",
    "import time\n",
    "!pip install pytrends\n",
    "import binascii"
   ]
  },
  {
   "cell_type": "code",
   "execution_count": 125,
   "metadata": {
    "collapsed": false
   },
   "outputs": [],
   "source": [
    "import pytrends as pyt\n",
    "from pytrends.request import TrendReq\n",
    "from __future__ import print_function\n",
    "from datetime import date, timedelta\n",
    "from dateutil.relativedelta import relativedelta\n",
    "from pandas.tseries.offsets import *\n",
    "from datetime import datetime\n",
    "from datetime import timedelta"
   ]
  },
  {
   "cell_type": "code",
   "execution_count": 152,
   "metadata": {
    "collapsed": false
   },
   "outputs": [
    {
     "name": "stdout",
     "output_type": "stream",
     "text": [
      "Requirement already satisfied (use --upgrade to upgrade): yahoo-finance in /Users/grotero/anaconda/lib/python2.7/site-packages\n",
      "Collecting as\n",
      "\u001b[31m  Could not find a version that satisfies the requirement as (from versions: )\u001b[0m\n",
      "\u001b[31mNo matching distribution found for as\u001b[0m\n",
      "\u001b[33mYou are using pip version 8.1.2, however version 9.0.1 is available.\n",
      "You should consider upgrading via the 'pip install --upgrade pip' command.\u001b[0m\n"
     ]
    }
   ],
   "source": [
    "!pip install yahoo-finance as yahoo"
   ]
  },
  {
   "cell_type": "code",
   "execution_count": 126,
   "metadata": {
    "collapsed": false
   },
   "outputs": [],
   "source": [
    "cmplst = pd.read_csv('companylist.csv')"
   ]
  },
  {
   "cell_type": "code",
   "execution_count": 127,
   "metadata": {
    "collapsed": false
   },
   "outputs": [],
   "source": [
    "google_username = '",
    "google_password = '",
    "\n",
    "path = \"\"\n",
    "\n",
    "#connect to Google\n",
    "pytrend = TrendReq(google_username, google_password, custom_useragent = 'My Pytrends Script')"
   ]
  },
  {
   "cell_type": "code",
   "execution_count": 128,
   "metadata": {
    "collapsed": true
   },
   "outputs": [],
   "source": [
    "def google_query(company):\n",
    "    trend_payload = {'q':company, 'date' : 'today 3-m'}\n",
    "    trend = pytrend.trend(trend_payload)\n",
    "    df1 = pytrend.trend(trend_payload, return_type = 'dataframe')\n",
    "    return df1"
   ]
  },
  {
   "cell_type": "code",
   "execution_count": 129,
   "metadata": {
    "collapsed": false
   },
   "outputs": [
    {
     "data": {
      "text/plain": [
       "88    WSCI\n",
       "89    XPLR\n",
       "90    ZDGE\n",
       "Name: Symbol, dtype: object"
      ]
     },
     "execution_count": 129,
     "metadata": {},
     "output_type": "execute_result"
    }
   ],
   "source": [
    "tickers = cmplst.T.ix[0]\n",
    "cmplst.T.ix[0].tail(3)"
   ]
  },
  {
   "cell_type": "code",
   "execution_count": 131,
   "metadata": {
    "collapsed": true
   },
   "outputs": [],
   "source": [
    "def text_to_bits(text, encoding='utf-8', errors='surrogatepass'):\n",
    "    bits = bin(int(binascii.hexlify(text.encode(encoding, errors)), 16))[2:]\n",
    "    return bits.zfill(8 * ((len(bits) + 7) // 8))\n",
    "\n",
    "def text_from_bits(bits, encoding='utf-8', errors='surrogatepass'):\n",
    "    n = int(bits, 2)\n",
    "    return int2bytes(n).decode(encoding, errors)\n",
    "\n",
    "def int2bytes(i):\n",
    "    hex_string = '%x' % i\n",
    "    n = len(hex_string)\n",
    "    return binascii.unhexlify(hex_string.zfill(n + (n & 1)))"
   ]
  },
  {
   "cell_type": "code",
   "execution_count": 166,
   "metadata": {
    "collapsed": false
   },
   "outputs": [
    {
     "name": "stdout",
     "output_type": "stream",
     "text": [
      "          Date  iots  acy\n",
      "0   2016-09-01     0    0\n",
      "1   2016-09-02     0    0\n",
      "2   2016-09-03     0    0\n",
      "3   2016-09-04     0    0\n",
      "4   2016-09-05     0    0\n",
      "5   2016-09-06     0    0\n",
      "6   2016-09-07     0    0\n",
      "7   2016-09-08     0    0\n",
      "8   2016-09-09     0    0\n",
      "9   2016-09-10     0    0\n",
      "10  2016-09-11     0    0\n",
      "11  2016-09-12     0    0\n",
      "12  2016-09-13     0    0\n",
      "13  2016-09-14     0    0\n",
      "14  2016-09-15     0    0\n",
      "15  2016-09-16     0    0\n",
      "16  2016-09-17     0    0\n",
      "17  2016-09-18     0    0\n",
      "18  2016-09-19     0    0\n",
      "19  2016-09-20     0    0\n",
      "20  2016-09-21     0    0\n",
      "21  2016-09-22     0    0\n",
      "22  2016-09-23     0    0\n",
      "23  2016-09-24     0    0\n",
      "24  2016-09-25     0    0\n",
      "25  2016-09-26     0    0\n",
      "26  2016-09-27     0    0\n",
      "27  2016-09-28     0    0\n",
      "28  2016-09-29     0    0\n",
      "29  2016-09-30     0    0\n",
      "..         ...   ...  ...\n",
      "61  2016-11-01     0    0\n",
      "62  2016-11-02     0    0\n",
      "63  2016-11-03     0    0\n",
      "64  2016-11-04     0    0\n",
      "65  2016-11-05     0    0\n",
      "66  2016-11-06     0    0\n",
      "67  2016-11-07     0    0\n",
      "68  2016-11-08     0    0\n",
      "69  2016-11-09     0    0\n",
      "70  2016-11-10     0    0\n",
      "71  2016-11-11     0    0\n",
      "72  2016-11-12     0    0\n",
      "73  2016-11-13     0    0\n",
      "74  2016-11-14     0    0\n",
      "75  2016-11-15     0    0\n",
      "76  2016-11-16     0    0\n",
      "77  2016-11-17     0    0\n",
      "78  2016-11-18     0    0\n",
      "79  2016-11-19     0    0\n",
      "80  2016-11-20     0    0\n",
      "81  2016-11-21     0    0\n",
      "82  2016-11-22     0    0\n",
      "83  2016-11-23     0    0\n",
      "84  2016-11-24     0    0\n",
      "85  2016-11-25     0    0\n",
      "86  2016-11-26     0    0\n",
      "87  2016-11-27     0    0\n",
      "88  2016-11-28     0    0\n",
      "89  2016-11-29     0    0\n",
      "90  2016-11-30     0    0\n",
      "\n",
      "[91 rows x 3 columns]\n"
     ]
    }
   ],
   "source": [
    "def buysignal(df,i,k=7,m=20):\n",
    "    mean = df[df.columns[i]].rolling(window = k).mean()\n",
    "    stddev = df[df.columns[i]].rolling(window = k).std()\n",
    "    buy=df[df.columns[i]]>(mean+m*stddev)\n",
    "    order=buy*1\n",
    "    return order\n",
    "\n",
    "def signal_df(df, k=7, m=20):\n",
    "    df2=df\n",
    "    for i in range(1, len(df.columns)):\n",
    "        df2[str(df.columns[i])]=buysignal(df,i)\n",
    "    return df2\n",
    "\n",
    "print (signal_df(trialdf))"
   ]
  },
  {
   "cell_type": "code",
   "execution_count": 167,
   "metadata": {
    "collapsed": false
   },
   "outputs": [
    {
     "name": "stdout",
     "output_type": "stream",
     "text": [
      "           BuyList    Binary\n",
      "Date                        \n",
      "2016-09-01       ,  00101100\n",
      "2016-09-02       ,  00101100\n",
      "2016-09-03       ,  00101100\n",
      "2016-09-04       ,  00101100\n",
      "2016-09-05       ,  00101100\n",
      "2016-09-06       ,  00101100\n",
      "2016-09-07       ,  00101100\n",
      "2016-09-08       ,  00101100\n",
      "2016-09-09       ,  00101100\n",
      "2016-09-10       ,  00101100\n",
      "2016-09-11       ,  00101100\n",
      "2016-09-12       ,  00101100\n",
      "2016-09-13       ,  00101100\n",
      "2016-09-14       ,  00101100\n",
      "2016-09-15       ,  00101100\n",
      "2016-09-16       ,  00101100\n",
      "2016-09-17       ,  00101100\n",
      "2016-09-18       ,  00101100\n",
      "2016-09-19       ,  00101100\n",
      "2016-09-20       ,  00101100\n",
      "2016-09-21       ,  00101100\n",
      "2016-09-22       ,  00101100\n",
      "2016-09-23       ,  00101100\n",
      "2016-09-24       ,  00101100\n",
      "2016-09-25       ,  00101100\n",
      "2016-09-26       ,  00101100\n",
      "2016-09-27       ,  00101100\n",
      "2016-09-28       ,  00101100\n",
      "2016-09-29       ,  00101100\n",
      "2016-09-30       ,  00101100\n",
      "...            ...       ...\n",
      "2016-11-01       ,  00101100\n",
      "2016-11-02       ,  00101100\n",
      "2016-11-03       ,  00101100\n",
      "2016-11-04       ,  00101100\n",
      "2016-11-05       ,  00101100\n",
      "2016-11-06       ,  00101100\n",
      "2016-11-07       ,  00101100\n",
      "2016-11-08       ,  00101100\n",
      "2016-11-09       ,  00101100\n",
      "2016-11-10       ,  00101100\n",
      "2016-11-11       ,  00101100\n",
      "2016-11-12       ,  00101100\n",
      "2016-11-13       ,  00101100\n",
      "2016-11-14       ,  00101100\n",
      "2016-11-15       ,  00101100\n",
      "2016-11-16       ,  00101100\n",
      "2016-11-17       ,  00101100\n",
      "2016-11-18       ,  00101100\n",
      "2016-11-19       ,  00101100\n",
      "2016-11-20       ,  00101100\n",
      "2016-11-21       ,  00101100\n",
      "2016-11-22       ,  00101100\n",
      "2016-11-23       ,  00101100\n",
      "2016-11-24       ,  00101100\n",
      "2016-11-25       ,  00101100\n",
      "2016-11-26       ,  00101100\n",
      "2016-11-27       ,  00101100\n",
      "2016-11-28       ,  00101100\n",
      "2016-11-29       ,  00101100\n",
      "2016-11-30       ,  00101100\n",
      "\n",
      "[91 rows x 2 columns]\n"
     ]
    }
   ],
   "source": [
    "def buylist(dummydf):\n",
    "    datelist = dummydf['Date']\n",
    "    bigbuylist = []\n",
    "    binarycode=[]\n",
    "    for row in range(len(dummydf)): \n",
    "        littlebuylist= ','\n",
    "        for column in range(1, len(dummydf.columns)):\n",
    "            if dummydf.ix[row,column] == 1:\n",
    "                littlebuylist = littlebuylist + ',' + str(dummydf.columns[column])\n",
    "        bigbuylist.append(littlebuylist)\n",
    "    df3= pd.DataFrame({\"Date\": datelist,\n",
    "                        \"BuyList\": bigbuylist}).set_index('Date')\n",
    "    for x in range(len(df3)):\n",
    "        if df3.ix[x, \"BuyList\"] == '':\n",
    "            df3.ix[x, \"BuyList\"] = ','\n",
    "        binaryentry=text_to_bits(df3.ix[x, \"BuyList\"])\n",
    "        binarycode.append(binaryentry)\n",
    "    df3[\"Binary\"]= binarycode\n",
    "    return df3\n",
    "        \n",
    "print(buylist(trialdf))"
   ]
  },
  {
   "cell_type": "code",
   "execution_count": 137,
   "metadata": {
    "collapsed": false
   },
   "outputs": [
    {
     "data": {
      "text/plain": [
       "Every 1 day at 01:50:00 do job() (last run: [never], next run: 2016-12-01 01:50:00)"
      ]
     },
     "execution_count": 137,
     "metadata": {},
     "output_type": "execute_result"
    }
   ],
   "source": [
    "def job():\n",
    "    print (tickers[0])\n",
    "    df0 = google_query(tickers[0])\n",
    "    dflist = [df0]\n",
    "    for i in range(1,2):\n",
    "        print(i)\n",
    "        for t in range(600):\n",
    "            time.sleep(1)\n",
    "        dfi = google_query(tickers[i])\n",
    "        dflist.append(dfi)\n",
    "    masterdf = pd.concat(dflist, axis=1)\n",
    "    tempsignaldf=signal_df(masterdf)\n",
    "    binarydf=buylist(tempsignaldf)\n",
    "    binarydfdf.to_csv('binarydf')\n",
    "    !git add .\n",
    "    !git commit -m \"replace\"\n",
    "    !git remote add origin https://github.com/robertgrote/jenkins.git\n",
    "    !git remote -v\n",
    "    !git push -f origin master\n",
    "\n",
    "schedule.clear()\n",
    "schedule.every().day.at(\"01:50\").do(job)"
   ]
  },
  {
   "cell_type": "code",
   "execution_count": 138,
   "metadata": {
    "collapsed": false,
    "scrolled": false
   },
   "outputs": [
    {
     "name": "stdout",
     "output_type": "stream",
     "text": [
      "IOTS\n",
      "Exceeded Google's Rate Limit. Please use time.sleep() to space requests.\n"
     ]
    },
    {
     "ename": "RateLimitError",
     "evalue": "",
     "output_type": "error",
     "traceback": [
      "\u001b[0;31m---------------------------------------------------------------------------\u001b[0m",
      "\u001b[0;31mRateLimitError\u001b[0m                            Traceback (most recent call last)",
      "\u001b[0;32m<ipython-input-138-e958909b1ed1>\u001b[0m in \u001b[0;36m<module>\u001b[0;34m()\u001b[0m\n\u001b[1;32m      1\u001b[0m \u001b[0;32mwhile\u001b[0m \u001b[0mTrue\u001b[0m\u001b[0;34m:\u001b[0m\u001b[0;34m\u001b[0m\u001b[0m\n\u001b[0;32m----> 2\u001b[0;31m     \u001b[0mschedule\u001b[0m\u001b[0;34m.\u001b[0m\u001b[0mrun_pending\u001b[0m\u001b[0;34m(\u001b[0m\u001b[0;34m)\u001b[0m\u001b[0;34m\u001b[0m\u001b[0m\n\u001b[0m\u001b[1;32m      3\u001b[0m     \u001b[0mtime\u001b[0m\u001b[0;34m.\u001b[0m\u001b[0msleep\u001b[0m\u001b[0;34m(\u001b[0m\u001b[0;36m1\u001b[0m\u001b[0;34m)\u001b[0m\u001b[0;34m\u001b[0m\u001b[0m\n",
      "\u001b[0;32m/Users/grotero/anaconda/lib/python2.7/site-packages/schedule/__init__.pyc\u001b[0m in \u001b[0;36mrun_pending\u001b[0;34m()\u001b[0m\n\u001b[1;32m    365\u001b[0m     \u001b[0mbetween\u001b[0m \u001b[0mbut\u001b[0m \u001b[0monly\u001b[0m \u001b[0monce\u001b[0m\u001b[0;34m.\u001b[0m\u001b[0;34m\u001b[0m\u001b[0m\n\u001b[1;32m    366\u001b[0m     \"\"\"\n\u001b[0;32m--> 367\u001b[0;31m     \u001b[0mdefault_scheduler\u001b[0m\u001b[0;34m.\u001b[0m\u001b[0mrun_pending\u001b[0m\u001b[0;34m(\u001b[0m\u001b[0;34m)\u001b[0m\u001b[0;34m\u001b[0m\u001b[0m\n\u001b[0m\u001b[1;32m    368\u001b[0m \u001b[0;34m\u001b[0m\u001b[0m\n\u001b[1;32m    369\u001b[0m \u001b[0;34m\u001b[0m\u001b[0m\n",
      "\u001b[0;32m/Users/grotero/anaconda/lib/python2.7/site-packages/schedule/__init__.pyc\u001b[0m in \u001b[0;36mrun_pending\u001b[0;34m(self)\u001b[0m\n\u001b[1;32m     62\u001b[0m         \u001b[0mrunnable_jobs\u001b[0m \u001b[0;34m=\u001b[0m \u001b[0;34m(\u001b[0m\u001b[0mjob\u001b[0m \u001b[0;32mfor\u001b[0m \u001b[0mjob\u001b[0m \u001b[0;32min\u001b[0m \u001b[0mself\u001b[0m\u001b[0;34m.\u001b[0m\u001b[0mjobs\u001b[0m \u001b[0;32mif\u001b[0m \u001b[0mjob\u001b[0m\u001b[0;34m.\u001b[0m\u001b[0mshould_run\u001b[0m\u001b[0;34m)\u001b[0m\u001b[0;34m\u001b[0m\u001b[0m\n\u001b[1;32m     63\u001b[0m         \u001b[0;32mfor\u001b[0m \u001b[0mjob\u001b[0m \u001b[0;32min\u001b[0m \u001b[0msorted\u001b[0m\u001b[0;34m(\u001b[0m\u001b[0mrunnable_jobs\u001b[0m\u001b[0;34m)\u001b[0m\u001b[0;34m:\u001b[0m\u001b[0;34m\u001b[0m\u001b[0m\n\u001b[0;32m---> 64\u001b[0;31m             \u001b[0mself\u001b[0m\u001b[0;34m.\u001b[0m\u001b[0m_run_job\u001b[0m\u001b[0;34m(\u001b[0m\u001b[0mjob\u001b[0m\u001b[0;34m)\u001b[0m\u001b[0;34m\u001b[0m\u001b[0m\n\u001b[0m\u001b[1;32m     65\u001b[0m \u001b[0;34m\u001b[0m\u001b[0m\n\u001b[1;32m     66\u001b[0m     \u001b[0;32mdef\u001b[0m \u001b[0mrun_all\u001b[0m\u001b[0;34m(\u001b[0m\u001b[0mself\u001b[0m\u001b[0;34m,\u001b[0m \u001b[0mdelay_seconds\u001b[0m\u001b[0;34m=\u001b[0m\u001b[0;36m0\u001b[0m\u001b[0;34m)\u001b[0m\u001b[0;34m:\u001b[0m\u001b[0;34m\u001b[0m\u001b[0m\n",
      "\u001b[0;32m/Users/grotero/anaconda/lib/python2.7/site-packages/schedule/__init__.pyc\u001b[0m in \u001b[0;36m_run_job\u001b[0;34m(self, job)\u001b[0m\n\u001b[1;32m     94\u001b[0m \u001b[0;34m\u001b[0m\u001b[0m\n\u001b[1;32m     95\u001b[0m     \u001b[0;32mdef\u001b[0m \u001b[0m_run_job\u001b[0m\u001b[0;34m(\u001b[0m\u001b[0mself\u001b[0m\u001b[0;34m,\u001b[0m \u001b[0mjob\u001b[0m\u001b[0;34m)\u001b[0m\u001b[0;34m:\u001b[0m\u001b[0;34m\u001b[0m\u001b[0m\n\u001b[0;32m---> 96\u001b[0;31m         \u001b[0mret\u001b[0m \u001b[0;34m=\u001b[0m \u001b[0mjob\u001b[0m\u001b[0;34m.\u001b[0m\u001b[0mrun\u001b[0m\u001b[0;34m(\u001b[0m\u001b[0;34m)\u001b[0m\u001b[0;34m\u001b[0m\u001b[0m\n\u001b[0m\u001b[1;32m     97\u001b[0m         \u001b[0;32mif\u001b[0m \u001b[0misinstance\u001b[0m\u001b[0;34m(\u001b[0m\u001b[0mret\u001b[0m\u001b[0;34m,\u001b[0m \u001b[0mCancelJob\u001b[0m\u001b[0;34m)\u001b[0m \u001b[0;32mor\u001b[0m \u001b[0mret\u001b[0m \u001b[0;32mis\u001b[0m \u001b[0mCancelJob\u001b[0m\u001b[0;34m:\u001b[0m\u001b[0;34m\u001b[0m\u001b[0m\n\u001b[1;32m     98\u001b[0m             \u001b[0mself\u001b[0m\u001b[0;34m.\u001b[0m\u001b[0mcancel_job\u001b[0m\u001b[0;34m(\u001b[0m\u001b[0mjob\u001b[0m\u001b[0;34m)\u001b[0m\u001b[0;34m\u001b[0m\u001b[0m\n",
      "\u001b[0;32m/Users/grotero/anaconda/lib/python2.7/site-packages/schedule/__init__.pyc\u001b[0m in \u001b[0;36mrun\u001b[0;34m(self)\u001b[0m\n\u001b[1;32m    291\u001b[0m         \u001b[0;34m\"\"\"Run the job and immediately reschedule it.\"\"\"\u001b[0m\u001b[0;34m\u001b[0m\u001b[0m\n\u001b[1;32m    292\u001b[0m         \u001b[0mlogger\u001b[0m\u001b[0;34m.\u001b[0m\u001b[0minfo\u001b[0m\u001b[0;34m(\u001b[0m\u001b[0;34m'Running job %s'\u001b[0m\u001b[0;34m,\u001b[0m \u001b[0mself\u001b[0m\u001b[0;34m)\u001b[0m\u001b[0;34m\u001b[0m\u001b[0m\n\u001b[0;32m--> 293\u001b[0;31m         \u001b[0mret\u001b[0m \u001b[0;34m=\u001b[0m \u001b[0mself\u001b[0m\u001b[0;34m.\u001b[0m\u001b[0mjob_func\u001b[0m\u001b[0;34m(\u001b[0m\u001b[0;34m)\u001b[0m\u001b[0;34m\u001b[0m\u001b[0m\n\u001b[0m\u001b[1;32m    294\u001b[0m         \u001b[0mself\u001b[0m\u001b[0;34m.\u001b[0m\u001b[0mlast_run\u001b[0m \u001b[0;34m=\u001b[0m \u001b[0mdatetime\u001b[0m\u001b[0;34m.\u001b[0m\u001b[0mdatetime\u001b[0m\u001b[0;34m.\u001b[0m\u001b[0mnow\u001b[0m\u001b[0;34m(\u001b[0m\u001b[0;34m)\u001b[0m\u001b[0;34m\u001b[0m\u001b[0m\n\u001b[1;32m    295\u001b[0m         \u001b[0mself\u001b[0m\u001b[0;34m.\u001b[0m\u001b[0m_schedule_next_run\u001b[0m\u001b[0;34m(\u001b[0m\u001b[0;34m)\u001b[0m\u001b[0;34m\u001b[0m\u001b[0m\n",
      "\u001b[0;32m<ipython-input-137-63d1fc97e0b9>\u001b[0m in \u001b[0;36mjob\u001b[0;34m()\u001b[0m\n\u001b[1;32m      1\u001b[0m \u001b[0;32mdef\u001b[0m \u001b[0mjob\u001b[0m\u001b[0;34m(\u001b[0m\u001b[0;34m)\u001b[0m\u001b[0;34m:\u001b[0m\u001b[0;34m\u001b[0m\u001b[0m\n\u001b[1;32m      2\u001b[0m     \u001b[0;32mprint\u001b[0m \u001b[0;34m(\u001b[0m\u001b[0mtickers\u001b[0m\u001b[0;34m[\u001b[0m\u001b[0;36m0\u001b[0m\u001b[0;34m]\u001b[0m\u001b[0;34m)\u001b[0m\u001b[0;34m\u001b[0m\u001b[0m\n\u001b[0;32m----> 3\u001b[0;31m     \u001b[0mdf0\u001b[0m \u001b[0;34m=\u001b[0m \u001b[0mgoogle_query\u001b[0m\u001b[0;34m(\u001b[0m\u001b[0mtickers\u001b[0m\u001b[0;34m[\u001b[0m\u001b[0;36m0\u001b[0m\u001b[0;34m]\u001b[0m\u001b[0;34m)\u001b[0m\u001b[0;34m\u001b[0m\u001b[0m\n\u001b[0m\u001b[1;32m      4\u001b[0m     \u001b[0mdflist\u001b[0m \u001b[0;34m=\u001b[0m \u001b[0;34m[\u001b[0m\u001b[0mdf0\u001b[0m\u001b[0;34m]\u001b[0m\u001b[0;34m\u001b[0m\u001b[0m\n\u001b[1;32m      5\u001b[0m     \u001b[0;32mfor\u001b[0m \u001b[0mi\u001b[0m \u001b[0;32min\u001b[0m \u001b[0mrange\u001b[0m\u001b[0;34m(\u001b[0m\u001b[0;36m1\u001b[0m\u001b[0;34m,\u001b[0m\u001b[0;36m2\u001b[0m\u001b[0;34m)\u001b[0m\u001b[0;34m:\u001b[0m\u001b[0;34m\u001b[0m\u001b[0m\n",
      "\u001b[0;32m<ipython-input-128-bd1e7df5b310>\u001b[0m in \u001b[0;36mgoogle_query\u001b[0;34m(company)\u001b[0m\n\u001b[1;32m      1\u001b[0m \u001b[0;32mdef\u001b[0m \u001b[0mgoogle_query\u001b[0m\u001b[0;34m(\u001b[0m\u001b[0mcompany\u001b[0m\u001b[0;34m)\u001b[0m\u001b[0;34m:\u001b[0m\u001b[0;34m\u001b[0m\u001b[0m\n\u001b[1;32m      2\u001b[0m     \u001b[0mtrend_payload\u001b[0m \u001b[0;34m=\u001b[0m \u001b[0;34m{\u001b[0m\u001b[0;34m'q'\u001b[0m\u001b[0;34m:\u001b[0m\u001b[0mcompany\u001b[0m\u001b[0;34m,\u001b[0m \u001b[0;34m'date'\u001b[0m \u001b[0;34m:\u001b[0m \u001b[0;34m'today 3-m'\u001b[0m\u001b[0;34m}\u001b[0m\u001b[0;34m\u001b[0m\u001b[0m\n\u001b[0;32m----> 3\u001b[0;31m     \u001b[0mtrend\u001b[0m \u001b[0;34m=\u001b[0m \u001b[0mpytrend\u001b[0m\u001b[0;34m.\u001b[0m\u001b[0mtrend\u001b[0m\u001b[0;34m(\u001b[0m\u001b[0mtrend_payload\u001b[0m\u001b[0;34m)\u001b[0m\u001b[0;34m\u001b[0m\u001b[0m\n\u001b[0m\u001b[1;32m      4\u001b[0m     \u001b[0mdf1\u001b[0m \u001b[0;34m=\u001b[0m \u001b[0mpytrend\u001b[0m\u001b[0;34m.\u001b[0m\u001b[0mtrend\u001b[0m\u001b[0;34m(\u001b[0m\u001b[0mtrend_payload\u001b[0m\u001b[0;34m,\u001b[0m \u001b[0mreturn_type\u001b[0m \u001b[0;34m=\u001b[0m \u001b[0;34m'dataframe'\u001b[0m\u001b[0;34m)\u001b[0m\u001b[0;34m\u001b[0m\u001b[0m\n\u001b[1;32m      5\u001b[0m     \u001b[0;32mreturn\u001b[0m \u001b[0mdf1\u001b[0m\u001b[0;34m\u001b[0m\u001b[0m\n",
      "\u001b[0;32m/Users/grotero/anaconda/lib/python2.7/site-packages/pytrends/request.pyc\u001b[0m in \u001b[0;36mtrend\u001b[0;34m(self, payload, return_type)\u001b[0m\n\u001b[1;32m     60\u001b[0m         \u001b[0;32mtry\u001b[0m\u001b[0;34m:\u001b[0m\u001b[0;34m\u001b[0m\u001b[0m\n\u001b[1;32m     61\u001b[0m             \u001b[0;32mif\u001b[0m \u001b[0mself\u001b[0m\u001b[0;34m.\u001b[0m\u001b[0mgoogle_rl\u001b[0m \u001b[0;32min\u001b[0m \u001b[0mreq\u001b[0m\u001b[0;34m.\u001b[0m\u001b[0mtext\u001b[0m\u001b[0;34m:\u001b[0m\u001b[0;34m\u001b[0m\u001b[0m\n\u001b[0;32m---> 62\u001b[0;31m                 \u001b[0;32mraise\u001b[0m \u001b[0mRateLimitError\u001b[0m\u001b[0;34m\u001b[0m\u001b[0m\n\u001b[0m\u001b[1;32m     63\u001b[0m             \u001b[0;31m# strip off js function call 'google.visualization.Query.setResponse();\u001b[0m\u001b[0;34m\u001b[0m\u001b[0;34m\u001b[0m\u001b[0m\n\u001b[1;32m     64\u001b[0m             \u001b[0mtext\u001b[0m \u001b[0;34m=\u001b[0m \u001b[0mreq\u001b[0m\u001b[0;34m.\u001b[0m\u001b[0mtext\u001b[0m\u001b[0;34m[\u001b[0m\u001b[0;36m62\u001b[0m\u001b[0;34m:\u001b[0m\u001b[0;34m-\u001b[0m\u001b[0;36m2\u001b[0m\u001b[0;34m]\u001b[0m\u001b[0;34m\u001b[0m\u001b[0m\n",
      "\u001b[0;31mRateLimitError\u001b[0m: "
     ]
    }
   ],
   "source": [
    "while True:\n",
    "    schedule.run_pending()\n",
    "    time.sleep(1)"
   ]
  },
  {
   "cell_type": "code",
   "execution_count": 168,
   "metadata": {
    "collapsed": false
   },
   "outputs": [
    {
     "name": "stdout",
     "output_type": "stream",
     "text": [
      "[master b664906] replace\n",
      " 2 files changed, 23 insertions(+), 23 deletions(-)\n",
      "fatal: remote origin already exists.\n",
      "origin\thttps://github.com/robertgrote/jenkins.git (fetch)\n",
      "origin\thttps://github.com/robertgrote/jenkins.git (push)\n",
      "Counting objects: 4, done.\n",
      "Delta compression using up to 4 threads.\n",
      "Compressing objects: 100% (4/4), done.\n",
      "Writing objects: 100% (4/4), 619 bytes | 0 bytes/s, done.\n",
      "Total 4 (delta 3), reused 0 (delta 0)\n",
      "remote: Resolving deltas: 100% (3/3), completed with 3 local objects.\u001b[K\n",
      "To https://github.com/robertgrote/jenkins.git\n",
      "   735a5d6..b664906  master -> master\n"
     ]
    }
   ],
   "source": [
    "binarydf=buylist(trialdf)\n",
    "binarydf.to_csv('binarydf')\n",
    "!git add .\n",
    "!git commit -m \"replace\"\n",
    "!git remote add origin https://github.com/robertgrote/jenkins.git\n",
    "!git remote -v\n",
    "!git push -f origin master"
   ]
  },
  {
   "cell_type": "code",
   "execution_count": null,
   "metadata": {
    "collapsed": true
   },
   "outputs": [],
   "source": [
    "#Rudimentary Optimization\n",
    "\"\"\"\"\"\"\"\"\"\"\"\n",
    "def combineData(inputList,colName):\n",
    "    red=inputList[0][['Date','Adj Close']]\n",
    "    for b in range(1, len(inputList)):\n",
    "        orange=inputList[b][['Date','Adj Close']]\n",
    "        red= pd.merge(red, orange, on = 'Date', how = 'inner')\n",
    "        listofcolumnnames=['Date']\n",
    "    for x in range(0,len(colName)):\n",
    "        listofcolumnnames.append(colName[x])\n",
    "        red.columns =listofcolumnnames\n",
    "    return red\n",
    "\"\"\"\"\"\"\"\"\"\""
   ]
  },
  {
   "cell_type": "code",
   "execution_count": 146,
   "metadata": {
    "collapsed": false
   },
   "outputs": [
    {
     "name": "stdout",
     "output_type": "stream",
     "text": [
      "Collecting pandas-datareader\n",
      "  Downloading pandas_datareader-0.2.1-py2.py3-none-any.whl\n",
      "Requirement already satisfied (use --upgrade to upgrade): requests in /Users/grotero/anaconda/lib/python2.7/site-packages (from pandas-datareader)\n",
      "Requirement already satisfied (use --upgrade to upgrade): pandas in /Users/grotero/anaconda/lib/python2.7/site-packages (from pandas-datareader)\n",
      "Collecting requests-file (from pandas-datareader)\n",
      "  Downloading requests_file-1.4.1-py2.py3-none-any.whl\n",
      "Requirement already satisfied (use --upgrade to upgrade): python-dateutil in /Users/grotero/anaconda/lib/python2.7/site-packages (from pandas->pandas-datareader)\n",
      "Requirement already satisfied (use --upgrade to upgrade): pytz>=2011k in /Users/grotero/anaconda/lib/python2.7/site-packages (from pandas->pandas-datareader)\n",
      "Requirement already satisfied (use --upgrade to upgrade): numpy>=1.7.0 in /Users/grotero/anaconda/lib/python2.7/site-packages (from pandas->pandas-datareader)\n",
      "Requirement already satisfied (use --upgrade to upgrade): six in /Users/grotero/anaconda/lib/python2.7/site-packages (from requests-file->pandas-datareader)\n",
      "Installing collected packages: requests-file, pandas-datareader\n",
      "Successfully installed pandas-datareader-0.2.1 requests-file-1.4.1\n",
      "\u001b[33mYou are using pip version 8.1.2, however version 9.0.1 is available.\n",
      "You should consider upgrading via the 'pip install --upgrade pip' command.\u001b[0m\n"
     ]
    }
   ],
   "source": [
    "!pip install pandas-datareader"
   ]
  },
  {
   "cell_type": "code",
   "execution_count": 156,
   "metadata": {
    "collapsed": false
   },
   "outputs": [
    {
     "name": "stdout",
     "output_type": "stream",
     "text": [
      "^CTraceback (most recent call last):\r\n",
      "  File \"/Users/grotero/anaconda/bin/pip\", line 4, in <module>\r\n",
      "    import pip\r\n",
      "  File \"/Users/grotero/anaconda/lib/python2.7/site-packages/pip/__init__.py\", line 14, in <module>\r\n",
      "    from pip.utils import get_installed_distributions, get_prog\r\n",
      "  File \"/Users/grotero/anaconda/lib/python2.7/site-packages/pip/utils/__init__.py\", line 27, in <module>\r\n",
      "    from pip._vendor import pkg_resources\r\n",
      "  File \"/Users/grotero/anaconda/lib/python2.7/site-packages/pip/_vendor/pkg_resources/__init__.py\", line 35, in <module>\r\n",
      "    import email.parser\r\n",
      "  File \"/Users/grotero/anaconda/lib/python2.7/email/parser.py\", line 12, in <module>\r\n",
      "    from email.feedparser import FeedParser\r\n",
      "  File \"/Users/grotero/anaconda/lib/python2.7/email/feedparser.py\", line 27, in <module>\r\n",
      "    from email import message\r\n",
      "  File \"/Users/grotero/anaconda/lib/python2.7/email/message.py\", line 5, in <module>\r\n",
      "    \"\"\"Basic message object for the email package object model.\"\"\"\r\n",
      "KeyboardInterrupt\r\n",
      "\r\n"
     ]
    }
   ],
   "source": [
    "import pandas_datareader as pdr\n",
    "!pip install seaborn"
   ]
  },
  {
   "cell_type": "code",
   "execution_count": 142,
   "metadata": {
    "collapsed": false
   },
   "outputs": [
    {
     "name": "stdout",
     "output_type": "stream",
     "text": [
      "          Date  iots  acy\n",
      "0   2016-09-01     0    0\n",
      "1   2016-09-02     0    0\n",
      "2   2016-09-03     0    0\n",
      "3   2016-09-04     0    0\n",
      "4   2016-09-05     0    0\n",
      "5   2016-09-06     0    0\n",
      "6   2016-09-07     0    1\n",
      "7   2016-09-08     0    0\n",
      "8   2016-09-09     0    0\n",
      "9   2016-09-10     0    0\n",
      "10  2016-09-11     0    0\n",
      "11  2016-09-12     0    0\n",
      "12  2016-09-13     1    0\n",
      "13  2016-09-14     0    0\n",
      "14  2016-09-15     0    0\n",
      "15  2016-09-16     0    1\n",
      "16  2016-09-17     0    0\n",
      "17  2016-09-18     0    0\n",
      "18  2016-09-19     1    0\n",
      "19  2016-09-20     1    0\n",
      "20  2016-09-21     1    0\n",
      "21  2016-09-22     0    1\n",
      "22  2016-09-23     0    0\n",
      "23  2016-09-24     0    1\n",
      "24  2016-09-25     0    0\n",
      "25  2016-09-26     0    1\n",
      "26  2016-09-27     0    0\n",
      "27  2016-09-28     1    0\n",
      "28  2016-09-29     0    0\n",
      "29  2016-09-30     0    0\n",
      "..         ...   ...  ...\n",
      "61  2016-11-01     1    0\n",
      "62  2016-11-02     1    0\n",
      "63  2016-11-03     1    0\n",
      "64  2016-11-04     0    0\n",
      "65  2016-11-05     0    0\n",
      "66  2016-11-06     0    0\n",
      "67  2016-11-07     0    1\n",
      "68  2016-11-08     0    0\n",
      "69  2016-11-09     0    0\n",
      "70  2016-11-10     0    0\n",
      "71  2016-11-11     1    0\n",
      "72  2016-11-12     1    0\n",
      "73  2016-11-13     1    0\n",
      "74  2016-11-14     0    0\n",
      "75  2016-11-15     0    1\n",
      "76  2016-11-16     0    0\n",
      "77  2016-11-17     0    1\n",
      "78  2016-11-18     0    1\n",
      "79  2016-11-19     0    0\n",
      "80  2016-11-20     0    0\n",
      "81  2016-11-21     0    0\n",
      "82  2016-11-22     0    0\n",
      "83  2016-11-23     1    0\n",
      "84  2016-11-24     0    0\n",
      "85  2016-11-25     0    0\n",
      "86  2016-11-26     0    0\n",
      "87  2016-11-27     0    1\n",
      "88  2016-11-28     0    1\n",
      "89  2016-11-29     0    0\n",
      "90  2016-11-30     0    0\n",
      "\n",
      "[91 rows x 3 columns]\n",
      "          Date  iots  acy\n",
      "0   2016-09-01     0    0\n",
      "1   2016-09-02     0    0\n",
      "2   2016-09-03     0    0\n",
      "3   2016-09-04     0    0\n",
      "4   2016-09-05     0    0\n",
      "5   2016-09-06     0    0\n",
      "6   2016-09-07     0    1\n",
      "7   2016-09-08     0    0\n",
      "8   2016-09-09     0    0\n",
      "9   2016-09-10     0    0\n",
      "10  2016-09-11     0    0\n",
      "11  2016-09-12     0    0\n",
      "12  2016-09-13     1    0\n",
      "13  2016-09-14     0    0\n",
      "14  2016-09-15     0    0\n",
      "15  2016-09-16     0    1\n",
      "16  2016-09-17     0    0\n",
      "17  2016-09-18     0    0\n",
      "18  2016-09-19     1    0\n",
      "19  2016-09-20     1    0\n",
      "20  2016-09-21     1    0\n",
      "21  2016-09-22     0    1\n",
      "22  2016-09-23     0    0\n",
      "23  2016-09-24     0    1\n",
      "24  2016-09-25     0    0\n",
      "25  2016-09-26     0    1\n",
      "26  2016-09-27     0    0\n",
      "27  2016-09-28     1    0\n",
      "28  2016-09-29     0    0\n",
      "29  2016-09-30     0    0\n",
      "..         ...   ...  ...\n",
      "61  2016-11-01     1    0\n",
      "62  2016-11-02     1    0\n",
      "63  2016-11-03     1    0\n",
      "64  2016-11-04     0    0\n",
      "65  2016-11-05     0    0\n",
      "66  2016-11-06     0    0\n",
      "67  2016-11-07     0    1\n",
      "68  2016-11-08     0    0\n",
      "69  2016-11-09     0    0\n",
      "70  2016-11-10     0    0\n",
      "71  2016-11-11     1    0\n",
      "72  2016-11-12     1    0\n",
      "73  2016-11-13     1    0\n",
      "74  2016-11-14     0    0\n",
      "75  2016-11-15     0    1\n",
      "76  2016-11-16     0    0\n",
      "77  2016-11-17     0    1\n",
      "78  2016-11-18     0    1\n",
      "79  2016-11-19     0    0\n",
      "80  2016-11-20     0    0\n",
      "81  2016-11-21     0    0\n",
      "82  2016-11-22     0    0\n",
      "83  2016-11-23     1    0\n",
      "84  2016-11-24     0    0\n",
      "85  2016-11-25     0    0\n",
      "86  2016-11-26     0    0\n",
      "87  2016-11-27     0    1\n",
      "88  2016-11-28     0    1\n",
      "89  2016-11-29     0    0\n",
      "90  2016-11-30     0    0\n",
      "\n",
      "[91 rows x 3 columns]\n"
     ]
    }
   ],
   "source": [
    "def buysignal(df,i,k=7,m=1):\n",
    "    mean = df[df.columns[i]].rolling(window = k).mean()\n",
    "    stddev = df[df.columns[i]].rolling(window = k).std()\n",
    "    buy=df[df.columns[i]]>(mean+m*stddev)\n",
    "    order=buy*1\n",
    "    return order\n",
    "\n",
    "def signal_df(df, k=7, m=1):\n",
    "    df2=df\n",
    "    for i in range(1, len(df.columns)):\n",
    "        df2[str(df.columns[i])]=buysignal(df,i)\n",
    "    return df2\n",
    "\n",
    "print (signal_df(trialdf))\n",
    "print (trialdf)"
   ]
  },
  {
   "cell_type": "code",
   "execution_count": 145,
   "metadata": {
    "collapsed": false
   },
   "outputs": [
    {
     "name": "stdout",
     "output_type": "stream",
     "text": [
      "-0.351583718495\n"
     ]
    }
   ],
   "source": [
    "def robotBroker(df,initCash):\n",
    "    stockposition=[0]\n",
    "    portval=[initCash]\n",
    "    cash=[initCash]\n",
    "    baseline=[]\n",
    "    for b in range(0, len(df)):\n",
    "        baseline.append(0)\n",
    "    for c in range(1,len(df)):\n",
    "        cash.append(cash[c-1]-(df.iloc[c,2])*df.iloc[c,1])\n",
    "        stockposition.append(stockposition[c-1]+df.iloc[c,2])\n",
    "        portval.append(cash[c]+(df.iloc[c,1]*stockposition[c-1])+(df.iloc[c,2]*df.iloc[c,1]))\n",
    "    return get_ratio(portval, baseline)\n",
    "\n",
    "def get_mean(a):\n",
    "    return np.nanmean(a)\n",
    "def get_stddev(a):\n",
    "    return np.nanstd(a, ddof=1)\n",
    "def get_returns(a):\n",
    "    for x in range(len(a)):\n",
    "        if x==0:\n",
    "            my_list=[]\n",
    "            my_list.append(np.nan)\n",
    "        else:\n",
    "            z=((a[x]-a[x-1])/(a[x-1]))\n",
    "            my_list.append(z)\n",
    "    return my_list\n",
    "def get_excess_returns(returns, baseline):\n",
    "    return np.subtract(returns, baseline)\n",
    "def get_ratio(a, baseline):\n",
    "    return (get_mean(get_excess_returns(get_returns(a),baseline)))/(get_stddev(get_excess_returns(get_returns(a),baseline)))\n",
    "\n",
    "print (robotBroker(trialdf,10000000))"
   ]
  },
  {
   "cell_type": "code",
   "execution_count": null,
   "metadata": {
    "collapsed": true
   },
   "outputs": [],
   "source": [
    "def optimizeParams(df,tickerList,kList,mList,initCash):\n",
    "    kbest=[]\n",
    "    mbest=[]\n",
    "    maxsharpe=[]\n",
    "    for w in range(0, len(tickerList)):\n",
    "        tempdf=df[['Date', tickerList[w]]]\n",
    "        tempk=kList[w]\n",
    "        tempm=mList[w]\n",
    "        temporderdf=meanRevert(tempdf,tempk,tempm)\n",
    "        tempsharpe=robotBroker(temporderdf,initCash)\n",
    "        maxsharpe.append(tempsharpe)\n",
    "        kbest.append(tempk)\n",
    "        mbest.append(tempm)\n",
    "        listofbests=[kbest,mbest,maxsharpe]\n",
    "    for w in range(0, len(tickerList)):\n",
    "        tempdf=df[['Date', tickerList[w]]]\n",
    "    for x in range(0,len(kList)):\n",
    "        tempk=kList[x]\n",
    "        for y in range(0,len(mList)):\n",
    "            tempm=mList[y]\n",
    "            temporderdf=meanRevert(tempdf,tempk,tempm)\n",
    "            tempsharpe=robotBroker(temporderdf,initCash)\n",
    "            if tempsharpe>maxsharpe[w]:\n",
    "                maxsharpe[w]=tempsharpe\n",
    "                kbest[w]=tempk\n",
    "                mbest[w]=tempm\n",
    "                listofbests=[kbest,mbest,maxsharpe]\n",
    "    return listofbests\n"
   ]
  },
  {
   "cell_type": "code",
   "execution_count": 148,
   "metadata": {
    "collapsed": false
   },
   "outputs": [
    {
     "name": "stdout",
     "output_type": "stream",
     "text": [
      "0    2016-09-01\n",
      "1    2016-09-02\n",
      "2    2016-09-03\n",
      "3    2016-09-04\n",
      "4    2016-09-05\n",
      "Name: Date, dtype: object\n"
     ]
    }
   ],
   "source": [
    "print trialdf['Date'].head()\n",
    "\n",
    "    #df3.tshift(3)#freq='D'\n",
    "    #return df3     \n",
    "        #for column in range(len(dummydf.columns)):\n",
    "        #    print str(dummydf.columns[column])   #(dummydf[column])\n",
    "        #for row in dummydf.iloc[numberrows]:\n",
    "        #    append \n",
    "        #    print row\n",
    "        #    if row == 1:\n",
    "        #for i in range(0, len(dummydf.columns)):\n",
    "            #print row"
   ]
  },
  {
   "cell_type": "code",
   "execution_count": 177,
   "metadata": {
    "collapsed": false
   },
   "outputs": [
    {
     "ename": "TypeError",
     "evalue": "unsupported type for add operation",
     "output_type": "error",
     "traceback": [
      "\u001b[0;31m---------------------------------------------------------------------------\u001b[0m",
      "\u001b[0;31mTypeError\u001b[0m                                 Traceback (most recent call last)",
      "\u001b[0;32m<ipython-input-177-bb6e8a8a7e93>\u001b[0m in \u001b[0;36m<module>\u001b[0;34m()\u001b[0m\n\u001b[0;32m----> 1\u001b[0;31m \u001b[0mtrialdf\u001b[0m\u001b[0;34m[\u001b[0m\u001b[0;34m'Date'\u001b[0m\u001b[0;34m]\u001b[0m\u001b[0;34m[\u001b[0m\u001b[0;36m0\u001b[0m\u001b[0;34m]\u001b[0m \u001b[0;34m+\u001b[0m \u001b[0mrelativedelta\u001b[0m\u001b[0;34m(\u001b[0m\u001b[0mmonths\u001b[0m\u001b[0;34m=\u001b[0m\u001b[0;36m0\u001b[0m\u001b[0;34m,\u001b[0m \u001b[0mdays\u001b[0m\u001b[0;34m=\u001b[0m\u001b[0;36m1\u001b[0m\u001b[0;34m)\u001b[0m\u001b[0;34m\u001b[0m\u001b[0m\n\u001b[0m",
      "\u001b[0;32m/Users/grotero/anaconda/lib/python2.7/site-packages/dateutil/relativedelta.pyc\u001b[0m in \u001b[0;36m__radd__\u001b[0;34m(self, other)\u001b[0m\n\u001b[1;32m    391\u001b[0m \u001b[0;34m\u001b[0m\u001b[0m\n\u001b[1;32m    392\u001b[0m     \u001b[0;32mdef\u001b[0m \u001b[0m__radd__\u001b[0m\u001b[0;34m(\u001b[0m\u001b[0mself\u001b[0m\u001b[0;34m,\u001b[0m \u001b[0mother\u001b[0m\u001b[0;34m)\u001b[0m\u001b[0;34m:\u001b[0m\u001b[0;34m\u001b[0m\u001b[0m\n\u001b[0;32m--> 393\u001b[0;31m         \u001b[0;32mreturn\u001b[0m \u001b[0mself\u001b[0m\u001b[0;34m.\u001b[0m\u001b[0m__add__\u001b[0m\u001b[0;34m(\u001b[0m\u001b[0mother\u001b[0m\u001b[0;34m)\u001b[0m\u001b[0;34m\u001b[0m\u001b[0m\n\u001b[0m\u001b[1;32m    394\u001b[0m \u001b[0;34m\u001b[0m\u001b[0m\n\u001b[1;32m    395\u001b[0m     \u001b[0;32mdef\u001b[0m \u001b[0m__rsub__\u001b[0m\u001b[0;34m(\u001b[0m\u001b[0mself\u001b[0m\u001b[0;34m,\u001b[0m \u001b[0mother\u001b[0m\u001b[0;34m)\u001b[0m\u001b[0;34m:\u001b[0m\u001b[0;34m\u001b[0m\u001b[0m\n",
      "\u001b[0;32m/Users/grotero/anaconda/lib/python2.7/site-packages/dateutil/relativedelta.pyc\u001b[0m in \u001b[0;36m__add__\u001b[0;34m(self, other)\u001b[0m\n\u001b[1;32m    349\u001b[0m                                               self.microsecond))\n\u001b[1;32m    350\u001b[0m         \u001b[0;32mif\u001b[0m \u001b[0;32mnot\u001b[0m \u001b[0misinstance\u001b[0m\u001b[0;34m(\u001b[0m\u001b[0mother\u001b[0m\u001b[0;34m,\u001b[0m \u001b[0mdatetime\u001b[0m\u001b[0;34m.\u001b[0m\u001b[0mdate\u001b[0m\u001b[0;34m)\u001b[0m\u001b[0;34m:\u001b[0m\u001b[0;34m\u001b[0m\u001b[0m\n\u001b[0;32m--> 351\u001b[0;31m             \u001b[0;32mraise\u001b[0m \u001b[0mTypeError\u001b[0m\u001b[0;34m(\u001b[0m\u001b[0;34m\"unsupported type for add operation\"\u001b[0m\u001b[0;34m)\u001b[0m\u001b[0;34m\u001b[0m\u001b[0m\n\u001b[0m\u001b[1;32m    352\u001b[0m         \u001b[0;32melif\u001b[0m \u001b[0mself\u001b[0m\u001b[0;34m.\u001b[0m\u001b[0m_has_time\u001b[0m \u001b[0;32mand\u001b[0m \u001b[0;32mnot\u001b[0m \u001b[0misinstance\u001b[0m\u001b[0;34m(\u001b[0m\u001b[0mother\u001b[0m\u001b[0;34m,\u001b[0m \u001b[0mdatetime\u001b[0m\u001b[0;34m.\u001b[0m\u001b[0mdatetime\u001b[0m\u001b[0;34m)\u001b[0m\u001b[0;34m:\u001b[0m\u001b[0;34m\u001b[0m\u001b[0m\n\u001b[1;32m    353\u001b[0m             \u001b[0mother\u001b[0m \u001b[0;34m=\u001b[0m \u001b[0mdatetime\u001b[0m\u001b[0;34m.\u001b[0m\u001b[0mdatetime\u001b[0m\u001b[0;34m.\u001b[0m\u001b[0mfromordinal\u001b[0m\u001b[0;34m(\u001b[0m\u001b[0mother\u001b[0m\u001b[0;34m.\u001b[0m\u001b[0mtoordinal\u001b[0m\u001b[0;34m(\u001b[0m\u001b[0;34m)\u001b[0m\u001b[0;34m)\u001b[0m\u001b[0;34m\u001b[0m\u001b[0m\n",
      "\u001b[0;31mTypeError\u001b[0m: unsupported type for add operation"
     ]
    }
   ],
   "source": [
    "trialdf['Date'][0] + relativedelta(months=0, days=1)"
   ]
  },
  {
   "cell_type": "code",
   "execution_count": null,
   "metadata": {
    "collapsed": true
   },
   "outputs": [],
   "source": [
    "trialdf = pd.read_csv('masterdf')\n",
    "print(trialdf)"
   ]
  },
  {
   "cell_type": "code",
   "execution_count": 161,
   "metadata": {
    "collapsed": false
   },
   "outputs": [
    {
     "name": "stdout",
     "output_type": "stream",
     "text": [
      "<class 'pandas.tseries.offsets.DateOffset'>\n"
     ]
    }
   ],
   "source": [
    "print type(DateOffset(months=0, days=1))"
   ]
  },
  {
   "cell_type": "code",
   "execution_count": 76,
   "metadata": {
    "collapsed": false
   },
   "outputs": [
    {
     "data": {
      "text/html": [
       "<div>\n",
       "<table border=\"1\" class=\"dataframe\">\n",
       "  <thead>\n",
       "    <tr style=\"text-align: right;\">\n",
       "      <th></th>\n",
       "      <th>Date</th>\n",
       "      <th>iots</th>\n",
       "      <th>acy</th>\n",
       "    </tr>\n",
       "  </thead>\n",
       "  <tbody>\n",
       "    <tr>\n",
       "      <th>0</th>\n",
       "      <td>2016-09-01</td>\n",
       "      <td>0</td>\n",
       "      <td>0</td>\n",
       "    </tr>\n",
       "    <tr>\n",
       "      <th>1</th>\n",
       "      <td>2016-09-02</td>\n",
       "      <td>0</td>\n",
       "      <td>0</td>\n",
       "    </tr>\n",
       "    <tr>\n",
       "      <th>2</th>\n",
       "      <td>2016-09-03</td>\n",
       "      <td>0</td>\n",
       "      <td>0</td>\n",
       "    </tr>\n",
       "    <tr>\n",
       "      <th>3</th>\n",
       "      <td>2016-09-04</td>\n",
       "      <td>0</td>\n",
       "      <td>0</td>\n",
       "    </tr>\n",
       "    <tr>\n",
       "      <th>4</th>\n",
       "      <td>2016-09-05</td>\n",
       "      <td>0</td>\n",
       "      <td>0</td>\n",
       "    </tr>\n",
       "    <tr>\n",
       "      <th>5</th>\n",
       "      <td>2016-09-06</td>\n",
       "      <td>0</td>\n",
       "      <td>0</td>\n",
       "    </tr>\n",
       "    <tr>\n",
       "      <th>6</th>\n",
       "      <td>2016-09-07</td>\n",
       "      <td>1</td>\n",
       "      <td>1</td>\n",
       "    </tr>\n",
       "    <tr>\n",
       "      <th>7</th>\n",
       "      <td>2016-09-08</td>\n",
       "      <td>1</td>\n",
       "      <td>1</td>\n",
       "    </tr>\n",
       "    <tr>\n",
       "      <th>8</th>\n",
       "      <td>2016-09-09</td>\n",
       "      <td>1</td>\n",
       "      <td>1</td>\n",
       "    </tr>\n",
       "    <tr>\n",
       "      <th>9</th>\n",
       "      <td>2016-09-10</td>\n",
       "      <td>1</td>\n",
       "      <td>0</td>\n",
       "    </tr>\n",
       "    <tr>\n",
       "      <th>10</th>\n",
       "      <td>2016-09-11</td>\n",
       "      <td>1</td>\n",
       "      <td>1</td>\n",
       "    </tr>\n",
       "    <tr>\n",
       "      <th>11</th>\n",
       "      <td>2016-09-12</td>\n",
       "      <td>1</td>\n",
       "      <td>1</td>\n",
       "    </tr>\n",
       "    <tr>\n",
       "      <th>12</th>\n",
       "      <td>2016-09-13</td>\n",
       "      <td>1</td>\n",
       "      <td>1</td>\n",
       "    </tr>\n",
       "    <tr>\n",
       "      <th>13</th>\n",
       "      <td>2016-09-14</td>\n",
       "      <td>1</td>\n",
       "      <td>1</td>\n",
       "    </tr>\n",
       "    <tr>\n",
       "      <th>14</th>\n",
       "      <td>2016-09-15</td>\n",
       "      <td>1</td>\n",
       "      <td>1</td>\n",
       "    </tr>\n",
       "    <tr>\n",
       "      <th>15</th>\n",
       "      <td>2016-09-16</td>\n",
       "      <td>1</td>\n",
       "      <td>1</td>\n",
       "    </tr>\n",
       "    <tr>\n",
       "      <th>16</th>\n",
       "      <td>2016-09-17</td>\n",
       "      <td>1</td>\n",
       "      <td>0</td>\n",
       "    </tr>\n",
       "    <tr>\n",
       "      <th>17</th>\n",
       "      <td>2016-09-18</td>\n",
       "      <td>1</td>\n",
       "      <td>1</td>\n",
       "    </tr>\n",
       "    <tr>\n",
       "      <th>18</th>\n",
       "      <td>2016-09-19</td>\n",
       "      <td>1</td>\n",
       "      <td>0</td>\n",
       "    </tr>\n",
       "    <tr>\n",
       "      <th>19</th>\n",
       "      <td>2016-09-20</td>\n",
       "      <td>1</td>\n",
       "      <td>1</td>\n",
       "    </tr>\n",
       "    <tr>\n",
       "      <th>20</th>\n",
       "      <td>2016-09-21</td>\n",
       "      <td>1</td>\n",
       "      <td>1</td>\n",
       "    </tr>\n",
       "    <tr>\n",
       "      <th>21</th>\n",
       "      <td>2016-09-22</td>\n",
       "      <td>0</td>\n",
       "      <td>1</td>\n",
       "    </tr>\n",
       "    <tr>\n",
       "      <th>22</th>\n",
       "      <td>2016-09-23</td>\n",
       "      <td>1</td>\n",
       "      <td>0</td>\n",
       "    </tr>\n",
       "    <tr>\n",
       "      <th>23</th>\n",
       "      <td>2016-09-24</td>\n",
       "      <td>1</td>\n",
       "      <td>1</td>\n",
       "    </tr>\n",
       "    <tr>\n",
       "      <th>24</th>\n",
       "      <td>2016-09-25</td>\n",
       "      <td>1</td>\n",
       "      <td>1</td>\n",
       "    </tr>\n",
       "    <tr>\n",
       "      <th>25</th>\n",
       "      <td>2016-09-26</td>\n",
       "      <td>1</td>\n",
       "      <td>1</td>\n",
       "    </tr>\n",
       "    <tr>\n",
       "      <th>26</th>\n",
       "      <td>2016-09-27</td>\n",
       "      <td>1</td>\n",
       "      <td>1</td>\n",
       "    </tr>\n",
       "    <tr>\n",
       "      <th>27</th>\n",
       "      <td>2016-09-28</td>\n",
       "      <td>1</td>\n",
       "      <td>0</td>\n",
       "    </tr>\n",
       "    <tr>\n",
       "      <th>28</th>\n",
       "      <td>2016-09-29</td>\n",
       "      <td>1</td>\n",
       "      <td>1</td>\n",
       "    </tr>\n",
       "    <tr>\n",
       "      <th>29</th>\n",
       "      <td>2016-09-30</td>\n",
       "      <td>1</td>\n",
       "      <td>1</td>\n",
       "    </tr>\n",
       "    <tr>\n",
       "      <th>...</th>\n",
       "      <td>...</td>\n",
       "      <td>...</td>\n",
       "      <td>...</td>\n",
       "    </tr>\n",
       "    <tr>\n",
       "      <th>61</th>\n",
       "      <td>2016-11-01</td>\n",
       "      <td>1</td>\n",
       "      <td>1</td>\n",
       "    </tr>\n",
       "    <tr>\n",
       "      <th>62</th>\n",
       "      <td>2016-11-02</td>\n",
       "      <td>1</td>\n",
       "      <td>1</td>\n",
       "    </tr>\n",
       "    <tr>\n",
       "      <th>63</th>\n",
       "      <td>2016-11-03</td>\n",
       "      <td>1</td>\n",
       "      <td>1</td>\n",
       "    </tr>\n",
       "    <tr>\n",
       "      <th>64</th>\n",
       "      <td>2016-11-04</td>\n",
       "      <td>1</td>\n",
       "      <td>1</td>\n",
       "    </tr>\n",
       "    <tr>\n",
       "      <th>65</th>\n",
       "      <td>2016-11-05</td>\n",
       "      <td>1</td>\n",
       "      <td>1</td>\n",
       "    </tr>\n",
       "    <tr>\n",
       "      <th>66</th>\n",
       "      <td>2016-11-06</td>\n",
       "      <td>1</td>\n",
       "      <td>0</td>\n",
       "    </tr>\n",
       "    <tr>\n",
       "      <th>67</th>\n",
       "      <td>2016-11-07</td>\n",
       "      <td>1</td>\n",
       "      <td>1</td>\n",
       "    </tr>\n",
       "    <tr>\n",
       "      <th>68</th>\n",
       "      <td>2016-11-08</td>\n",
       "      <td>1</td>\n",
       "      <td>1</td>\n",
       "    </tr>\n",
       "    <tr>\n",
       "      <th>69</th>\n",
       "      <td>2016-11-09</td>\n",
       "      <td>1</td>\n",
       "      <td>1</td>\n",
       "    </tr>\n",
       "    <tr>\n",
       "      <th>70</th>\n",
       "      <td>2016-11-10</td>\n",
       "      <td>1</td>\n",
       "      <td>1</td>\n",
       "    </tr>\n",
       "    <tr>\n",
       "      <th>71</th>\n",
       "      <td>2016-11-11</td>\n",
       "      <td>1</td>\n",
       "      <td>1</td>\n",
       "    </tr>\n",
       "    <tr>\n",
       "      <th>72</th>\n",
       "      <td>2016-11-12</td>\n",
       "      <td>1</td>\n",
       "      <td>1</td>\n",
       "    </tr>\n",
       "    <tr>\n",
       "      <th>73</th>\n",
       "      <td>2016-11-13</td>\n",
       "      <td>1</td>\n",
       "      <td>0</td>\n",
       "    </tr>\n",
       "    <tr>\n",
       "      <th>74</th>\n",
       "      <td>2016-11-14</td>\n",
       "      <td>1</td>\n",
       "      <td>1</td>\n",
       "    </tr>\n",
       "    <tr>\n",
       "      <th>75</th>\n",
       "      <td>2016-11-15</td>\n",
       "      <td>1</td>\n",
       "      <td>1</td>\n",
       "    </tr>\n",
       "    <tr>\n",
       "      <th>76</th>\n",
       "      <td>2016-11-16</td>\n",
       "      <td>1</td>\n",
       "      <td>1</td>\n",
       "    </tr>\n",
       "    <tr>\n",
       "      <th>77</th>\n",
       "      <td>2016-11-17</td>\n",
       "      <td>0</td>\n",
       "      <td>1</td>\n",
       "    </tr>\n",
       "    <tr>\n",
       "      <th>78</th>\n",
       "      <td>2016-11-18</td>\n",
       "      <td>0</td>\n",
       "      <td>1</td>\n",
       "    </tr>\n",
       "    <tr>\n",
       "      <th>79</th>\n",
       "      <td>2016-11-19</td>\n",
       "      <td>1</td>\n",
       "      <td>1</td>\n",
       "    </tr>\n",
       "    <tr>\n",
       "      <th>80</th>\n",
       "      <td>2016-11-20</td>\n",
       "      <td>0</td>\n",
       "      <td>1</td>\n",
       "    </tr>\n",
       "    <tr>\n",
       "      <th>81</th>\n",
       "      <td>2016-11-21</td>\n",
       "      <td>1</td>\n",
       "      <td>0</td>\n",
       "    </tr>\n",
       "    <tr>\n",
       "      <th>82</th>\n",
       "      <td>2016-11-22</td>\n",
       "      <td>1</td>\n",
       "      <td>1</td>\n",
       "    </tr>\n",
       "    <tr>\n",
       "      <th>83</th>\n",
       "      <td>2016-11-23</td>\n",
       "      <td>1</td>\n",
       "      <td>1</td>\n",
       "    </tr>\n",
       "    <tr>\n",
       "      <th>84</th>\n",
       "      <td>2016-11-24</td>\n",
       "      <td>1</td>\n",
       "      <td>0</td>\n",
       "    </tr>\n",
       "    <tr>\n",
       "      <th>85</th>\n",
       "      <td>2016-11-25</td>\n",
       "      <td>1</td>\n",
       "      <td>0</td>\n",
       "    </tr>\n",
       "    <tr>\n",
       "      <th>86</th>\n",
       "      <td>2016-11-26</td>\n",
       "      <td>1</td>\n",
       "      <td>1</td>\n",
       "    </tr>\n",
       "    <tr>\n",
       "      <th>87</th>\n",
       "      <td>2016-11-27</td>\n",
       "      <td>1</td>\n",
       "      <td>1</td>\n",
       "    </tr>\n",
       "    <tr>\n",
       "      <th>88</th>\n",
       "      <td>2016-11-28</td>\n",
       "      <td>1</td>\n",
       "      <td>1</td>\n",
       "    </tr>\n",
       "    <tr>\n",
       "      <th>89</th>\n",
       "      <td>2016-11-29</td>\n",
       "      <td>0</td>\n",
       "      <td>0</td>\n",
       "    </tr>\n",
       "    <tr>\n",
       "      <th>90</th>\n",
       "      <td>2016-11-30</td>\n",
       "      <td>0</td>\n",
       "      <td>0</td>\n",
       "    </tr>\n",
       "  </tbody>\n",
       "</table>\n",
       "<p>91 rows × 3 columns</p>\n",
       "</div>"
      ],
      "text/plain": [
       "          Date  iots  acy\n",
       "0   2016-09-01     0    0\n",
       "1   2016-09-02     0    0\n",
       "2   2016-09-03     0    0\n",
       "3   2016-09-04     0    0\n",
       "4   2016-09-05     0    0\n",
       "5   2016-09-06     0    0\n",
       "6   2016-09-07     1    1\n",
       "7   2016-09-08     1    1\n",
       "8   2016-09-09     1    1\n",
       "9   2016-09-10     1    0\n",
       "10  2016-09-11     1    1\n",
       "11  2016-09-12     1    1\n",
       "12  2016-09-13     1    1\n",
       "13  2016-09-14     1    1\n",
       "14  2016-09-15     1    1\n",
       "15  2016-09-16     1    1\n",
       "16  2016-09-17     1    0\n",
       "17  2016-09-18     1    1\n",
       "18  2016-09-19     1    0\n",
       "19  2016-09-20     1    1\n",
       "20  2016-09-21     1    1\n",
       "21  2016-09-22     0    1\n",
       "22  2016-09-23     1    0\n",
       "23  2016-09-24     1    1\n",
       "24  2016-09-25     1    1\n",
       "25  2016-09-26     1    1\n",
       "26  2016-09-27     1    1\n",
       "27  2016-09-28     1    0\n",
       "28  2016-09-29     1    1\n",
       "29  2016-09-30     1    1\n",
       "..         ...   ...  ...\n",
       "61  2016-11-01     1    1\n",
       "62  2016-11-02     1    1\n",
       "63  2016-11-03     1    1\n",
       "64  2016-11-04     1    1\n",
       "65  2016-11-05     1    1\n",
       "66  2016-11-06     1    0\n",
       "67  2016-11-07     1    1\n",
       "68  2016-11-08     1    1\n",
       "69  2016-11-09     1    1\n",
       "70  2016-11-10     1    1\n",
       "71  2016-11-11     1    1\n",
       "72  2016-11-12     1    1\n",
       "73  2016-11-13     1    0\n",
       "74  2016-11-14     1    1\n",
       "75  2016-11-15     1    1\n",
       "76  2016-11-16     1    1\n",
       "77  2016-11-17     0    1\n",
       "78  2016-11-18     0    1\n",
       "79  2016-11-19     1    1\n",
       "80  2016-11-20     0    1\n",
       "81  2016-11-21     1    0\n",
       "82  2016-11-22     1    1\n",
       "83  2016-11-23     1    1\n",
       "84  2016-11-24     1    0\n",
       "85  2016-11-25     1    0\n",
       "86  2016-11-26     1    1\n",
       "87  2016-11-27     1    1\n",
       "88  2016-11-28     1    1\n",
       "89  2016-11-29     0    0\n",
       "90  2016-11-30     0    0\n",
       "\n",
       "[91 rows x 3 columns]"
      ]
     },
     "execution_count": 76,
     "metadata": {},
     "output_type": "execute_result"
    }
   ],
   "source": [
    "trialdf"
   ]
  },
  {
   "cell_type": "code",
   "execution_count": null,
   "metadata": {
    "collapsed": true
   },
   "outputs": [],
   "source": [
    "def buylist(dummydf):\n",
    "    datelist = dummydf['Date']\n",
    "    #print datelist\n",
    "    bigbuylist = []\n",
    "    for row in range(len(dummydf)): \n",
    "        littlebuylist=\"\"\n",
    "        for column in range(1, len(dummydf.columns)):\n",
    "            if dummydf.ix[row,column] == 1:\n",
    "                littlebuylist.append(dummydf.columns[column])\n",
    "        bigbuylist.append(littlebuylist)\n",
    "    return pd.DataFrame({\"Date\": datelist,\n",
    "                        \"BuyList\": bigbuylist}).set_index('Date')\n",
    "    #df3.tshift(3)#freq='D'\n",
    "    #return df3\n",
    "                \n",
    "        #for column in range(len(dummydf.columns)):\n",
    "        #    print str(dummydf.columns[column])   #(dummydf[column])\n",
    "        #for row in dummydf.iloc[numberrows]:\n",
    "        #    append \n",
    "        #    print row\n",
    "        #    if row == 1:\n",
    "                \n",
    "        #for i in range(0, len(dummydf.columns)):\n",
    "            #print row\n",
    "        \n",
    "print (buylist(trialdf))"
   ]
  },
  {
   "cell_type": "code",
   "execution_count": 230,
   "metadata": {
    "collapsed": false
   },
   "outputs": [
    {
     "name": "stdout",
     "output_type": "stream",
     "text": [
      "2016-11-30 18:37:43.788597\n"
     ]
    }
   ],
   "source": [
    "print datetime.datetime.now()"
   ]
  },
  {
   "cell_type": "code",
   "execution_count": 181,
   "metadata": {
    "collapsed": false
   },
   "outputs": [
    {
     "name": "stdout",
     "output_type": "stream",
     "text": [
      "2016-09-01 00:00:00\n",
      "<type 'str'> <class 'dateutil.relativedelta.relativedelta'>\n"
     ]
    },
    {
     "ename": "TypeError",
     "evalue": "unsupported type for add operation",
     "output_type": "error",
     "traceback": [
      "\u001b[0;31m---------------------------------------------------------------------------\u001b[0m",
      "\u001b[0;31mTypeError\u001b[0m                                 Traceback (most recent call last)",
      "\u001b[0;32m<ipython-input-181-3dcf64b30e2d>\u001b[0m in \u001b[0;36m<module>\u001b[0;34m()\u001b[0m\n\u001b[1;32m      2\u001b[0m \u001b[0;32mprint\u001b[0m \u001b[0mts\u001b[0m\u001b[0;34m\u001b[0m\u001b[0m\n\u001b[1;32m      3\u001b[0m \u001b[0;32mprint\u001b[0m \u001b[0mtype\u001b[0m\u001b[0;34m(\u001b[0m\u001b[0mts\u001b[0m\u001b[0;34m)\u001b[0m\u001b[0;34m,\u001b[0m \u001b[0mtype\u001b[0m\u001b[0;34m(\u001b[0m\u001b[0mrelativedelta\u001b[0m\u001b[0;34m(\u001b[0m\u001b[0mmonths\u001b[0m\u001b[0;34m=\u001b[0m\u001b[0;36m0\u001b[0m\u001b[0;34m,\u001b[0m\u001b[0mdays\u001b[0m\u001b[0;34m=\u001b[0m\u001b[0;36m1\u001b[0m\u001b[0;34m)\u001b[0m\u001b[0;34m)\u001b[0m\u001b[0;34m\u001b[0m\u001b[0m\n\u001b[0;32m----> 4\u001b[0;31m \u001b[0;32mprint\u001b[0m \u001b[0mts\u001b[0m \u001b[0;34m+\u001b[0m \u001b[0mrelativedelta\u001b[0m\u001b[0;34m(\u001b[0m\u001b[0mmonths\u001b[0m\u001b[0;34m=\u001b[0m\u001b[0;36m0\u001b[0m\u001b[0;34m,\u001b[0m \u001b[0mdays\u001b[0m\u001b[0;34m=\u001b[0m\u001b[0;36m1\u001b[0m\u001b[0;34m)\u001b[0m\u001b[0;34m\u001b[0m\u001b[0m\n\u001b[0m",
      "\u001b[0;32m/Users/grotero/anaconda/lib/python2.7/site-packages/dateutil/relativedelta.pyc\u001b[0m in \u001b[0;36m__radd__\u001b[0;34m(self, other)\u001b[0m\n\u001b[1;32m    391\u001b[0m \u001b[0;34m\u001b[0m\u001b[0m\n\u001b[1;32m    392\u001b[0m     \u001b[0;32mdef\u001b[0m \u001b[0m__radd__\u001b[0m\u001b[0;34m(\u001b[0m\u001b[0mself\u001b[0m\u001b[0;34m,\u001b[0m \u001b[0mother\u001b[0m\u001b[0;34m)\u001b[0m\u001b[0;34m:\u001b[0m\u001b[0;34m\u001b[0m\u001b[0m\n\u001b[0;32m--> 393\u001b[0;31m         \u001b[0;32mreturn\u001b[0m \u001b[0mself\u001b[0m\u001b[0;34m.\u001b[0m\u001b[0m__add__\u001b[0m\u001b[0;34m(\u001b[0m\u001b[0mother\u001b[0m\u001b[0;34m)\u001b[0m\u001b[0;34m\u001b[0m\u001b[0m\n\u001b[0m\u001b[1;32m    394\u001b[0m \u001b[0;34m\u001b[0m\u001b[0m\n\u001b[1;32m    395\u001b[0m     \u001b[0;32mdef\u001b[0m \u001b[0m__rsub__\u001b[0m\u001b[0;34m(\u001b[0m\u001b[0mself\u001b[0m\u001b[0;34m,\u001b[0m \u001b[0mother\u001b[0m\u001b[0;34m)\u001b[0m\u001b[0;34m:\u001b[0m\u001b[0;34m\u001b[0m\u001b[0m\n",
      "\u001b[0;32m/Users/grotero/anaconda/lib/python2.7/site-packages/dateutil/relativedelta.pyc\u001b[0m in \u001b[0;36m__add__\u001b[0;34m(self, other)\u001b[0m\n\u001b[1;32m    349\u001b[0m                                               self.microsecond))\n\u001b[1;32m    350\u001b[0m         \u001b[0;32mif\u001b[0m \u001b[0;32mnot\u001b[0m \u001b[0misinstance\u001b[0m\u001b[0;34m(\u001b[0m\u001b[0mother\u001b[0m\u001b[0;34m,\u001b[0m \u001b[0mdatetime\u001b[0m\u001b[0;34m.\u001b[0m\u001b[0mdate\u001b[0m\u001b[0;34m)\u001b[0m\u001b[0;34m:\u001b[0m\u001b[0;34m\u001b[0m\u001b[0m\n\u001b[0;32m--> 351\u001b[0;31m             \u001b[0;32mraise\u001b[0m \u001b[0mTypeError\u001b[0m\u001b[0;34m(\u001b[0m\u001b[0;34m\"unsupported type for add operation\"\u001b[0m\u001b[0;34m)\u001b[0m\u001b[0;34m\u001b[0m\u001b[0m\n\u001b[0m\u001b[1;32m    352\u001b[0m         \u001b[0;32melif\u001b[0m \u001b[0mself\u001b[0m\u001b[0;34m.\u001b[0m\u001b[0m_has_time\u001b[0m \u001b[0;32mand\u001b[0m \u001b[0;32mnot\u001b[0m \u001b[0misinstance\u001b[0m\u001b[0;34m(\u001b[0m\u001b[0mother\u001b[0m\u001b[0;34m,\u001b[0m \u001b[0mdatetime\u001b[0m\u001b[0;34m.\u001b[0m\u001b[0mdatetime\u001b[0m\u001b[0;34m)\u001b[0m\u001b[0;34m:\u001b[0m\u001b[0;34m\u001b[0m\u001b[0m\n\u001b[1;32m    353\u001b[0m             \u001b[0mother\u001b[0m \u001b[0;34m=\u001b[0m \u001b[0mdatetime\u001b[0m\u001b[0;34m.\u001b[0m\u001b[0mdatetime\u001b[0m\u001b[0;34m.\u001b[0m\u001b[0mfromordinal\u001b[0m\u001b[0;34m(\u001b[0m\u001b[0mother\u001b[0m\u001b[0;34m.\u001b[0m\u001b[0mtoordinal\u001b[0m\u001b[0;34m(\u001b[0m\u001b[0;34m)\u001b[0m\u001b[0;34m)\u001b[0m\u001b[0;34m\u001b[0m\u001b[0m\n",
      "\u001b[0;31mTypeError\u001b[0m: unsupported type for add operation"
     ]
    }
   ],
   "source": [
    "ts = time.strftime('%Y-%m-%d 00:00:00', time.strptime(trialdf['Date'][0],'%Y-%m-%d'))\n",
    "print ts\n",
    "print type(ts), type(relativedelta(months=0,days=1))\n",
    "print ts + relativedelta(months=0, days=1)"
   ]
  },
  {
   "cell_type": "code",
   "execution_count": 202,
   "metadata": {
    "collapsed": false
   },
   "outputs": [
    {
     "name": "stdout",
     "output_type": "stream",
     "text": [
      "time.struct_time(tm_year=2016, tm_mon=9, tm_mday=1, tm_hour=0, tm_min=0, tm_sec=0, tm_wday=3, tm_yday=245, tm_isdst=-1)\n",
      "<DateOffset: kwds={'months': 0, 'days': 1}>\n",
      "relativedelta(days=+1)\n"
     ]
    }
   ],
   "source": [
    "print time.strptime(trialdf['Date'][0],'%Y-%m-%d')\n",
    "print DateOffset(months=0, days=1)\n",
    "print relativedelta(months=0, days=1)\n",
    "#print time.strftime(\"<DateOffset: kwds={'months': %m, 'days': %d>\"}, ) \n",
    "\n",
    "#print time.strptime(trialdf['Date'][0],'%Y-%m-%d') + ('1','0','0','0','0','0','0','0')"
   ]
  },
  {
   "cell_type": "code",
   "execution_count": 220,
   "metadata": {
    "collapsed": false
   },
   "outputs": [
    {
     "ename": "SyntaxError",
     "evalue": "invalid syntax (<ipython-input-220-6dd1f441cacc>, line 1)",
     "output_type": "error",
     "traceback": [
      "\u001b[0;36m  File \u001b[0;32m\"<ipython-input-220-6dd1f441cacc>\"\u001b[0;36m, line \u001b[0;32m1\u001b[0m\n\u001b[0;31m    print time.strftime(\"<DateOffset: kwds={'months': %m, 'days': %d}>\", '0000'-%'mm'-'%dd')\u001b[0m\n\u001b[0m                                                                                ^\u001b[0m\n\u001b[0;31mSyntaxError\u001b[0m\u001b[0;31m:\u001b[0m invalid syntax\n"
     ]
    }
   ],
   "source": [
    "print time.strftime(\"<DateOffset: kwds={'months': %m, 'days': %d}>\", \n"
   ]
  },
  {
   "cell_type": "code",
   "execution_count": 99,
   "metadata": {
    "collapsed": false
   },
   "outputs": [
    {
     "name": "stdout",
     "output_type": "stream",
     "text": [
      "[master 3369d9c] replace\n",
      " 3 files changed, 958 insertions(+), 1069 deletions(-)\n",
      " create mode 100644 binarydf\n",
      "fatal: remote origin already exists.\n",
      "origin\thttps://github.com/robertgrote/jenkins.git (fetch)\n",
      "origin\thttps://github.com/robertgrote/jenkins.git (push)\n",
      "Counting objects: 5, done.\n",
      "Delta compression using up to 4 threads.\n",
      "Compressing objects: 100% (5/5), done.\n",
      "Writing objects: 100% (5/5), 4.41 KiB | 0 bytes/s, done.\n",
      "Total 5 (delta 3), reused 0 (delta 0)\n",
      "remote: Resolving deltas: 100% (3/3), completed with 2 local objects.\u001b[K\n",
      "To https://github.com/robertgrote/jenkins.git\n",
      "   d542ce3..3369d9c  master -> master\n"
     ]
    }
   ],
   "source": [
    "binarydf.to_csv('binarydf')\n",
    "!git add .\n",
    "!git commit -m \"replace\"\n",
    "!git remote add origin https://github.com/robertgrote/jenkins.git\n",
    "!git remote -v\n",
    "!git push -f origin master"
   ]
  },
  {
   "cell_type": "code",
   "execution_count": 18,
   "metadata": {
    "collapsed": false
   },
   "outputs": [
    {
     "name": "stdout",
     "output_type": "stream",
     "text": [
      "1     ACY\n",
      "2     WGA\n",
      "3    BOSC\n",
      "Name: Symbol, dtype: object\n"
     ]
    }
   ],
   "source": [
    "print tickers[1:4]\n",
    "\n",
    "        signal_df=[]\n",
    "        signal_df.columns=list(df.columns.values)"
   ]
  }
 ],
 "metadata": {
  "anaconda-cloud": {},
  "kernelspec": {
   "display_name": "Python [Root]",
   "language": "python",
   "name": "Python [Root]"
  },
  "language_info": {
   "codemirror_mode": {
    "name": "ipython",
    "version": 2
   },
   "file_extension": ".py",
   "mimetype": "text/x-python",
   "name": "python",
   "nbconvert_exporter": "python",
   "pygments_lexer": "ipython2",
   "version": "2.7.12"
  }
 },
 "nbformat": 4,
 "nbformat_minor": 1
}
